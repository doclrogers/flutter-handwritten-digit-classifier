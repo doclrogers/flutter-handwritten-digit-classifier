{
 "cells": [
  {
   "cell_type": "markdown",
   "metadata": {},
   "source": [
    "<pre>\n",
    "     Author: <a href=\"https://www.doclrogers.com\">David Rogers</a>\n",
    "    License: MIT\n",
    "Description: Training a handwritten digit classifier for use in a mobile application.\n",
    "</pre>"
   ]
  },
  {
   "cell_type": "markdown",
   "metadata": {},
   "source": [
    "# Setup"
   ]
  },
  {
   "cell_type": "markdown",
   "metadata": {},
   "source": [
    "## Imports"
   ]
  },
  {
   "cell_type": "code",
   "execution_count": 1,
   "metadata": {},
   "outputs": [
    {
     "name": "stdout",
     "output_type": "stream",
     "text": [
      "Open CV2 version 4.0.0\n",
      "Matplotlib version 3.0.3\n",
      "NumPy version 1.16.3\n",
      "TensorFlow version 1.12.0\n"
     ]
    }
   ],
   "source": [
    "# Imports\n",
    "import os\n",
    "\n",
    "import cv2\n",
    "print('Open CV2 version', cv2.__version__)\n",
    "\n",
    "import matplotlib\n",
    "import matplotlib.pyplot as plt\n",
    "print('Matplotlib version', matplotlib.__version__)\n",
    "\n",
    "import numpy as np\n",
    "print('NumPy version', np.__version__)\n",
    "\n",
    "import tensorflow as tf\n",
    "from tensorflow.contrib import lite\n",
    "print('TensorFlow version', tf.__version__)\n",
    "\n",
    "# Plotting inline\n",
    "%matplotlib inline"
   ]
  },
  {
   "cell_type": "code",
   "execution_count": 2,
   "metadata": {},
   "outputs": [],
   "source": [
    "# Data set\n",
    "MNIST = tf.keras.datasets.mnist"
   ]
  },
  {
   "cell_type": "code",
   "execution_count": 3,
   "metadata": {},
   "outputs": [],
   "source": [
    "# Set random seed for consistency\n",
    "np.random.seed(64)"
   ]
  },
  {
   "cell_type": "markdown",
   "metadata": {},
   "source": [
    "## Read in Data"
   ]
  },
  {
   "cell_type": "code",
   "execution_count": 4,
   "metadata": {},
   "outputs": [
    {
     "name": "stdout",
     "output_type": "stream",
     "text": [
      "Image size: (28, 28)\n"
     ]
    }
   ],
   "source": [
    "(x_train, y_train),(x_test, y_test) = MNIST.load_data()\n",
    "class_names = [0, 1, 2, 3, 4, 5, 6, 7, 8, 9]\n",
    "\n",
    "print('Image size:', x_train[0,].shape)"
   ]
  },
  {
   "cell_type": "code",
   "execution_count": 5,
   "metadata": {},
   "outputs": [
    {
     "name": "stdout",
     "output_type": "stream",
     "text": [
      "Sample raw MNIST image:\n"
     ]
    },
    {
     "data": {
      "image/png": "[encoded data removed]",
      "text/plain": [
       "<Figure size 432x288 with 1 Axes>"
      ]
     },
     "metadata": {
      "needs_background": "light"
     },
     "output_type": "display_data"
    }
   ],
   "source": [
    "print('Sample raw MNIST image:')\n",
    "plt.imshow(x_train[4,])\n",
    "plt.show()"
   ]
  },
  {
   "cell_type": "markdown",
   "metadata": {},
   "source": [
    "NOTE: Image is white writing on black background"
   ]
  },
  {
   "cell_type": "markdown",
   "metadata": {},
   "source": [
    "## Pre-process Data\n",
    "\n",
    "* Scale pixels from \\[0, 255\\] to \\[0, 1\\]\n",
    "* Add Gaussian noise to the image to help improve results when captured with real-world mobile cameras\n",
    "* Invert colors for black writing on white background"
   ]
  },
  {
   "cell_type": "code",
   "execution_count": 6,
   "metadata": {},
   "outputs": [],
   "source": [
    "# Training set\n",
    "x_train = x_train / 255.0 # Scale\n",
    "x_train = np.maximum.reduce([np.random.normal(0.3, 0.1, x_train.shape), x_train]) # Add noise\n",
    "x_train = 1 - x_train # Invert colors\n",
    "\n",
    "# Test set\n",
    "x_test = x_test / 255.0\n",
    "x_test = np.maximum.reduce([np.random.normal(0.3, 0.1, x_test.shape), x_test])\n",
    "x_test = 1 - x_test"
   ]
  },
  {
   "cell_type": "code",
   "execution_count": 7,
   "metadata": {},
   "outputs": [
    {
     "name": "stdout",
     "output_type": "stream",
     "text": [
      "Sample preprocessed MNIST image:\n"
     ]
    },
    {
     "data": {
      "image/png": "[encoded data removed]",
      "text/plain": [
       "<Figure size 432x288 with 1 Axes>"
      ]
     },
     "metadata": {
      "needs_background": "light"
     },
     "output_type": "display_data"
    }
   ],
   "source": [
    "print('Sample preprocessed MNIST image:')\n",
    "plt.imshow(x_train[4,])\n",
    "plt.show()"
   ]
  },
  {
   "cell_type": "markdown",
   "metadata": {},
   "source": [
    "# Train\n",
    "\n",
    "Create a basic neural network for classifying MNIST images (See [Get Started with TensorFlow](https://www.tensorflow.org/tutorials)). Then fit to the training set."
   ]
  },
  {
   "cell_type": "code",
   "execution_count": 8,
   "metadata": {},
   "outputs": [],
   "source": [
    "model = tf.keras.models.Sequential([\n",
    "    tf.keras.layers.Flatten(input_shape=(28, 28)),\n",
    "    tf.keras.layers.Dense(512, activation=tf.nn.relu),\n",
    "    tf.keras.layers.Dropout(0.2),\n",
    "    tf.keras.layers.Dense(10, activation=tf.nn.softmax)\n",
    "])\n",
    "model.compile(optimizer='adam',\n",
    "              loss='sparse_categorical_crossentropy',\n",
    "              metrics=['accuracy'])"
   ]
  },
  {
   "cell_type": "code",
   "execution_count": 9,
   "metadata": {},
   "outputs": [
    {
     "name": "stdout",
     "output_type": "stream",
     "text": [
      "Epoch 1/10\n",
      "60000/60000 [==============================] - 6s 102us/step - loss: 0.5761 - acc: 0.8212\n",
      "Epoch 2/10\n",
      "60000/60000 [==============================] - 6s 97us/step - loss: 0.3729 - acc: 0.8855\n",
      "Epoch 3/10\n",
      "60000/60000 [==============================] - 6s 97us/step - loss: 0.3096 - acc: 0.9044\n",
      "Epoch 4/10\n",
      "60000/60000 [==============================] - 6s 97us/step - loss: 0.2724 - acc: 0.9156\n",
      "Epoch 5/10\n",
      "60000/60000 [==============================] - 6s 97us/step - loss: 0.2463 - acc: 0.9253\n",
      "Epoch 6/10\n",
      "60000/60000 [==============================] - 6s 97us/step - loss: 0.2234 - acc: 0.9305\n",
      "Epoch 7/10\n",
      "60000/60000 [==============================] - 6s 97us/step - loss: 0.2176 - acc: 0.9325\n",
      "Epoch 8/10\n",
      "60000/60000 [==============================] - 6s 97us/step - loss: 0.2022 - acc: 0.9377\n",
      "Epoch 9/10\n",
      "60000/60000 [==============================] - 6s 98us/step - loss: 0.1914 - acc: 0.9386\n",
      "Epoch 10/10\n",
      "60000/60000 [==============================] - 6s 98us/step - loss: 0.1819 - acc: 0.9423\n"
     ]
    },
    {
     "data": {
      "text/plain": [
       "<tensorflow.python.keras.callbacks.History at 0x7fa08fa444a8>"
      ]
     },
     "execution_count": 9,
     "metadata": {},
     "output_type": "execute_result"
    }
   ],
   "source": [
    "model.fit(x_train, y_train, epochs=10)"
   ]
  },
  {
   "cell_type": "markdown",
   "metadata": {},
   "source": [
    "# Evaluate\n",
    "\n",
    "Evaluate on some handwritten digits of your own!"
   ]
  },
  {
   "cell_type": "code",
   "execution_count": 10,
   "metadata": {},
   "outputs": [],
   "source": [
    "images = []\n",
    "images.append(cv2.imread('../images/mnist/IMG_20190503_210852.jpg', 0))\n",
    "images.append(cv2.imread('../images/mnist/IMG_20190503_210856.jpg', 0))\n",
    "images.append(cv2.imread('../images/mnist/IMG_20190503_210859.jpg', 0))\n",
    "images.append(cv2.imread('../images/mnist/IMG_20190503_210903.jpg', 0))\n",
    "images.append(cv2.imread('../images/mnist/IMG_20190503_210907.jpg', 0))\n",
    "images.append(cv2.imread('../images/mnist/IMG_20190503_210920.jpg', 0))\n",
    "images.append(cv2.imread('../images/mnist/IMG_20190503_210927.jpg', 0))\n",
    "images.append(cv2.imread('../images/mnist/IMG_20190503_210931.jpg', 0))\n",
    "images.append(cv2.imread('../images/mnist/IMG_20190503_210936.jpg', 0))\n",
    "images.append(cv2.imread('../images/mnist/IMG_20190503_210949.jpg', 0))"
   ]
  },
  {
   "cell_type": "code",
   "execution_count": 11,
   "metadata": {
    "scrolled": false
   },
   "outputs": [
    {
     "data": {
      "image/png": "[encoded data removed]",
      "text/plain": [
       "<Figure size 432x288 with 1 Axes>"
      ]
     },
     "metadata": {
      "needs_background": "light"
     },
     "output_type": "display_data"
    },
    {
     "data": {
      "image/png": "[encoded data removed]",
      "text/plain": [
       "<Figure size 432x288 with 1 Axes>"
      ]
     },
     "metadata": {
      "needs_background": "light"
     },
     "output_type": "display_data"
    },
    {
     "data": {
      "image/png": "[encoded data removed]",
      "text/plain": [
       "<Figure size 432x288 with 1 Axes>"
      ]
     },
     "metadata": {
      "needs_background": "light"
     },
     "output_type": "display_data"
    },
    {
     "data": {
      "image/png": "[encoded data removed]",
      "text/plain": [
       "<Figure size 432x288 with 1 Axes>"
      ]
     },
     "metadata": {
      "needs_background": "light"
     },
     "output_type": "display_data"
    },
    {
     "data": {
      "image/png": "[encoded data removed]",
      "text/plain": [
       "<Figure size 432x288 with 1 Axes>"
      ]
     },
     "metadata": {
      "needs_background": "light"
     },
     "output_type": "display_data"
    },
    {
     "data": {
      "image/png": "[encoded data removed]",
      "text/plain": [
       "<Figure size 432x288 with 1 Axes>"
      ]
     },
     "metadata": {
      "needs_background": "light"
     },
     "output_type": "display_data"
    },
    {
     "data": {
      "image/png": "[encoded data removed]",
      "text/plain": [
       "<Figure size 432x288 with 1 Axes>"
      ]
     },
     "metadata": {
      "needs_background": "light"
     },
     "output_type": "display_data"
    },
    {
     "data": {
      "image/png": "[encoded data removed]",
      "text/plain": [
       "<Figure size 432x288 with 1 Axes>"
      ]
     },
     "metadata": {
      "needs_background": "light"
     },
     "output_type": "display_data"
    },
    {
     "data": {
      "image/png": "[encoded data removed]",
      "text/plain": [
       "<Figure size 432x288 with 1 Axes>"
      ]
     },
     "metadata": {
      "needs_background": "light"
     },
     "output_type": "display_data"
    },
    {
     "data": {
      "image/png": "[encoded data removed]",
      "text/plain": [
       "<Figure size 432x288 with 1 Axes>"
      ]
     },
     "metadata": {
      "needs_background": "light"
     },
     "output_type": "display_data"
    }
   ],
   "source": [
    "# Pre-process each image for inference\n",
    "images_p = []\n",
    "for img in images:\n",
    "    tmp = cv2.resize(img, (28, 28)) / 255\n",
    "    images_p.append(tmp)\n",
    "    plt.imshow(tmp)\n",
    "    plt.show()\n",
    "    \n",
    "images_p = np.stack(images_p)"
   ]
  },
  {
   "cell_type": "code",
   "execution_count": 12,
   "metadata": {},
   "outputs": [
    {
     "data": {
      "text/plain": [
       "(10, 10)"
      ]
     },
     "execution_count": 12,
     "metadata": {},
     "output_type": "execute_result"
    }
   ],
   "source": [
    "# Predict results\n",
    "results = model.predict(images_p)\n",
    "results.shape"
   ]
  },
  {
   "cell_type": "code",
   "execution_count": 13,
   "metadata": {},
   "outputs": [
    {
     "name": "stdout",
     "output_type": "stream",
     "text": [
      "Probabilities for each class:\n"
     ]
    },
    {
     "data": {
      "text/plain": [
       "array([2.0635023e-11, 2.1812593e-08, 1.2931856e-04, 9.9924421e-01,\n",
       "       1.1887081e-13, 1.9451358e-08, 2.2896227e-16, 3.4042547e-08,\n",
       "       6.2522932e-04, 1.2233971e-06], dtype=float32)"
      ]
     },
     "execution_count": 13,
     "metadata": {},
     "output_type": "execute_result"
    }
   ],
   "source": [
    "print('Probabilities for each class:')\n",
    "results[3]"
   ]
  },
  {
   "cell_type": "markdown",
   "metadata": {},
   "source": [
    "This image should be a \"4\", thus the highest probablity value should be at index=3."
   ]
  },
  {
   "cell_type": "code",
   "execution_count": 14,
   "metadata": {},
   "outputs": [
    {
     "data": {
      "text/plain": [
       "array([0, 1, 2, 3, 4, 5, 2, 2, 5, 1])"
      ]
     },
     "execution_count": 14,
     "metadata": {},
     "output_type": "execute_result"
    }
   ],
   "source": [
    "np.argmax(results, 1)"
   ]
  },
  {
   "cell_type": "markdown",
   "metadata": {},
   "source": [
    "Overall, on my handwritten digits, the model get 6 of 10 correct (the first 6 coincidentally)."
   ]
  },
  {
   "cell_type": "markdown",
   "metadata": {},
   "source": [
    "# Export model"
   ]
  },
  {
   "cell_type": "code",
   "execution_count": 15,
   "metadata": {},
   "outputs": [],
   "source": [
    "# Keras format\n",
    "model.save('mnist.h5')"
   ]
  },
  {
   "cell_type": "code",
   "execution_count": 16,
   "metadata": {},
   "outputs": [
    {
     "name": "stdout",
     "output_type": "stream",
     "text": [
      "INFO:tensorflow:Froze 4 variables.\n",
      "INFO:tensorflow:Converted 4 variables to const ops.\n"
     ]
    }
   ],
   "source": [
    "# Convert to TensorFlow lite\n",
    "converter = lite.TFLiteConverter.from_keras_model_file('mnist.h5')\n",
    "mdl = converter.convert()\n",
    "with open('mnist.tflite', 'wb') as mfile:\n",
    "    mfile.write(mdl)"
   ]
  }
 ],
 "metadata": {
  "kernelspec": {
   "display_name": "Python 3",
   "language": "python",
   "name": "python3"
  },
  "language_info": {
   "codemirror_mode": {
    "name": "ipython",
    "version": 3
   },
   "file_extension": ".py",
   "mimetype": "text/x-python",
   "name": "python",
   "nbconvert_exporter": "python",
   "pygments_lexer": "ipython3",
   "version": "3.6.7"
  }
 },
 "nbformat": 4,
 "nbformat_minor": 2
}
